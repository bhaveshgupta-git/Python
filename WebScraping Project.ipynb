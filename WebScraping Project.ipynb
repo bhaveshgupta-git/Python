{
 "cells": [
  {
   "cell_type": "markdown",
   "id": "bfd06ca7-1e30-49f9-8b0f-18a34b8049ef",
   "metadata": {},
   "source": [
    "# Project: GDP Data extraction and processing\n",
    "\n",
    "## Scenario:\n",
    "An international firm  is looking to expand its business in different countries and has hired you as a Data Analyst to create a script that can extract the list of the top 10 largest economies of the world in descending order of their GDPs in Billion USD (rounded to 2 decimal places), as logged by the International Monetary Fund (IMF). \n",
    "\n",
    "The required data seems to be available on the Wikipedia URL mentioned below:\n"
   ]
  },
  {
   "cell_type": "markdown",
   "id": "bde601c5-19f9-45fa-b1ce-a856364bbf27",
   "metadata": {},
   "source": [
    "URL: https://en.wikipedia.org/wiki/List_of_countries_by_GDP_%28nominal%29"
   ]
  },
  {
   "cell_type": "markdown",
   "id": "994f3ec5-47cc-409c-843e-175fecd963b4",
   "metadata": {},
   "source": [
    "## Objectives\n",
    " - Use Webscraping to extract required information from the website.\n",
    " - Use Pandas to load and process the tabular data as a dataframe.\n",
    " - Use Numpy to manipulate the information contatined in the dataframe.\n",
    " - Load the updated dataframe to CSV file.\n"
   ]
  },
  {
   "cell_type": "code",
   "execution_count": 1,
   "id": "8d3cb173-e7de-493d-9e81-c06e94b1c046",
   "metadata": {},
   "outputs": [
    {
     "name": "stdout",
     "output_type": "stream",
     "text": [
      "Requirement already satisfied: pandas in /opt/conda/lib/python3.12/site-packages (2.3.0)\n",
      "Requirement already satisfied: numpy>=1.26.0 in /opt/conda/lib/python3.12/site-packages (from pandas) (2.3.0)\n",
      "Requirement already satisfied: python-dateutil>=2.8.2 in /opt/conda/lib/python3.12/site-packages (from pandas) (2.9.0.post0)\n",
      "Requirement already satisfied: pytz>=2020.1 in /opt/conda/lib/python3.12/site-packages (from pandas) (2024.2)\n",
      "Requirement already satisfied: tzdata>=2022.7 in /opt/conda/lib/python3.12/site-packages (from pandas) (2025.2)\n",
      "Requirement already satisfied: six>=1.5 in /opt/conda/lib/python3.12/site-packages (from python-dateutil>=2.8.2->pandas) (1.17.0)\n",
      "Requirement already satisfied: numpy in /opt/conda/lib/python3.12/site-packages (2.3.0)\n"
     ]
    }
   ],
   "source": [
    "# Installing required packages.\n",
    "!pip install pandas\n",
    "!pip install numpy \n",
    "import numpy as np\n",
    "import pandas as pd\n"
   ]
  },
  {
   "cell_type": "code",
   "execution_count": 2,
   "id": "bf9e2d88-fbe3-42e0-85f1-7025b97374a3",
   "metadata": {},
   "outputs": [],
   "source": [
    "URL = \"https://en.wikipedia.org/wiki/List_of_countries_by_GDP_%28nominal%29\"\n",
    "\n",
    "# Extracting tables from website using Pandas.\n",
    "# Retaining the required table(table number 3) as the required DataFrame.\n",
    "tables = pd.read_html(URL)\n",
    "df = tables[2]"
   ]
  },
  {
   "cell_type": "code",
   "execution_count": 3,
   "id": "08cfedc0-151e-48e0-a2bf-0f882f534a0b",
   "metadata": {},
   "outputs": [
    {
     "name": "stdout",
     "output_type": "stream",
     "text": [
      "           Country  GDP (Billion USD)\n",
      "1    United States           30507.22\n",
      "2            China           19231.71\n",
      "3          Germany            4744.80\n",
      "4            India            4187.02\n",
      "5            Japan            4186.43\n",
      "6   United Kingdom            3839.18\n",
      "7           France            3211.29\n",
      "8            Italy            2422.86\n",
      "9           Canada            2225.34\n",
      "10          Brazil            2125.96\n"
     ]
    }
   ],
   "source": [
    "# Replaced complex column headers with column numbers\n",
    "df.columns = range(df.shape[1])\n",
    "\n",
    "# Retained columns with index 0 and 2 (name of country and GDP quoted by IMF)\n",
    "df = df[[0,1]]\n",
    "# Retained rows with index 1 to 10, indicating the top 10 economies.\n",
    "df=df.iloc[1:11]\n",
    "\n",
    "# Assigned column names as \"Country\" and \"GDP (Billion USD)\"\n",
    "df.columns=[\"Country\",\"GDP (Billion USD)\"]\n",
    "\n",
    "# Changed the data type of 'GDP (Billion USD)' column to integer using astype()\n",
    "df[['GDP (Billion USD)']] = df[['GDP (Billion USD)']].astype(int)\n",
    "# Convert the GDP value in Million USD to Billion USD\n",
    "df[['GDP (Billion USD)']] = df[['GDP (Billion USD)']]/1000\n",
    "# Used numpy.round() to round the GDP value to 2 decimal places.\n",
    "df[['GDP (Billion USD)']] = np.round(df[['GDP (Billion USD)']],2)\n",
    "\n",
    "print(df)"
   ]
  },
  {
   "cell_type": "code",
   "execution_count": 5,
   "id": "85bf0add-21f5-4d96-b6cd-4c1677309b8c",
   "metadata": {},
   "outputs": [],
   "source": [
    "# Saved the DataFrame to the CSV file\n",
    "df.to_csv('Top10ecomonies.csv')"
   ]
  }
 ],
 "metadata": {
  "kernelspec": {
   "display_name": "Python 3 (ipykernel)",
   "language": "python",
   "name": "python3"
  },
  "language_info": {
   "codemirror_mode": {
    "name": "ipython",
    "version": 3
   },
   "file_extension": ".py",
   "mimetype": "text/x-python",
   "name": "python",
   "nbconvert_exporter": "python",
   "pygments_lexer": "ipython3",
   "version": "3.12.8"
  }
 },
 "nbformat": 4,
 "nbformat_minor": 5
}
